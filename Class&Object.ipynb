{
  "nbformat": 4,
  "nbformat_minor": 0,
  "metadata": {
    "colab": {
      "provenance": [],
      "authorship_tag": "ABX9TyN82e6CftXD7Q7TFMuA513g",
      "include_colab_link": true
    },
    "kernelspec": {
      "name": "python3",
      "display_name": "Python 3"
    },
    "language_info": {
      "name": "python"
    }
  },
  "cells": [
    {
      "cell_type": "markdown",
      "metadata": {
        "id": "view-in-github",
        "colab_type": "text"
      },
      "source": [
        "<a href=\"https://colab.research.google.com/github/SitiMariatulUlfa/Pemograman-Berorientasi-Objek/blob/main/Class%26Object.ipynb\" target=\"_parent\"><img src=\"https://colab.research.google.com/assets/colab-badge.svg\" alt=\"Open In Colab\"/></a>"
      ]
    },
    {
      "cell_type": "code",
      "execution_count": 4,
      "metadata": {
        "colab": {
          "base_uri": "https://localhost:8080/"
        },
        "id": "z43sSWAEpJKT",
        "outputId": "2c24ca28-294e-4227-ac0a-f87491809bc3"
      },
      "outputs": [
        {
          "output_type": "stream",
          "name": "stdout",
          "text": [
            "Budi details:\n",
            "Nama: Budi\n",
            "Umur: 20\n",
            "Rambut: Ikal\n",
            "Warna Rambut: Hitam\n",
            "Tinggi Badan: 170 cm\n",
            "Jenis Kelamin: Laki-laki\n",
            "\n",
            "Michael details:\n",
            "Nama: Michael\n",
            "Umur: 22\n",
            "Rambut: Lurus\n",
            "Warna Rambut: Pirang\n",
            "Tinggi Badan: 180 cm\n",
            "Jenis Kelamin: Laki-laki\n"
          ]
        }
      ],
      "source": [
        "# Class\n",
        "class Person:\n",
        "    # Class Variable\n",
        "    person = 'Person'\n",
        "\n",
        "    # Constructor\n",
        "    def __init__(self, nama, umur, rambut, warna, tinggi, jenis_kelamin):\n",
        "        # Instance Variables\n",
        "        self.nama = nama\n",
        "        self.umur = umur\n",
        "        self.rambut = rambut\n",
        "        self.warna = warna\n",
        "        self.tinggi = tinggi\n",
        "        self.jenis_kelamin = jenis_kelamin\n",
        "\n",
        "# Object Instances\n",
        "Budi = Person(\"Budi\", 20, \"Ikal\", \"Hitam\", 170, \"Laki-laki\")\n",
        "Michael = Person(\"Michael\", 22, \"Lurus\", \"Pirang\", 180, \"Laki-laki\")\n",
        "\n",
        "# Output\n",
        "print('Budi details:')\n",
        "print('Nama:', Budi.nama)\n",
        "print('Umur:', Budi.umur)\n",
        "print('Rambut:', Budi.rambut)\n",
        "print('Warna Rambut:', Budi.warna)\n",
        "print('Tinggi Badan:', Budi.tinggi, 'cm')\n",
        "print('Jenis Kelamin:', Budi.jenis_kelamin)\n",
        "\n",
        "print('\\nMichael details:')\n",
        "print('Nama:', Michael.nama)\n",
        "print('Umur:', Michael.umur)\n",
        "print('Rambut:', Michael.rambut)\n",
        "print('Warna Rambut:', Michael.warna)\n",
        "print('Tinggi Badan:', Michael.tinggi, 'cm')\n",
        "print('Jenis Kelamin:', Michael.jenis_kelamin)\n"
      ]
    }
  ]
}