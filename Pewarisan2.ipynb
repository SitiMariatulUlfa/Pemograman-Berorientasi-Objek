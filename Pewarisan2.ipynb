{
  "nbformat": 4,
  "nbformat_minor": 0,
  "metadata": {
    "colab": {
      "provenance": [],
      "authorship_tag": "ABX9TyOiahuc3XnDX4hsOVAOHORU",
      "include_colab_link": true
    },
    "kernelspec": {
      "name": "python3",
      "display_name": "Python 3"
    },
    "language_info": {
      "name": "python"
    }
  },
  "cells": [
    {
      "cell_type": "markdown",
      "metadata": {
        "id": "view-in-github",
        "colab_type": "text"
      },
      "source": [
        "<a href=\"https://colab.research.google.com/github/SitiMariatulUlfa/Pemograman-Berorientasi-Objek/blob/main/Pewarisan2.ipynb\" target=\"_parent\"><img src=\"https://colab.research.google.com/assets/colab-badge.svg\" alt=\"Open In Colab\"/></a>"
      ]
    },
    {
      "cell_type": "code",
      "execution_count": 2,
      "metadata": {
        "colab": {
          "base_uri": "https://localhost:8080/"
        },
        "id": "gPDOIiBPrtgN",
        "outputId": "12553b9a-476a-45cd-df64-914caf8d2dfb"
      },
      "outputs": [
        {
          "output_type": "stream",
          "name": "stdout",
          "text": [
            "{'brand': 'Hyundai', 'model': 'Ioniq 5', 'year': 2023, 'number_of_doors': 4, 'number_of_wheels': 4}\n",
            "{'brand': 'Suzuki', 'model': 'GSX-R150', 'year': 2021, 'number_of_wheels': 2}\n",
            "Vehicle is starting\n",
            "Vehicle is starting\n"
          ]
        }
      ],
      "source": [
        "# make class Vehicle\n",
        "class Vehicle:\n",
        "    def __init__(self, brand, model, year):\n",
        "        self.brand = brand\n",
        "        self.model = model\n",
        "        self.year = year\n",
        "\n",
        "    # make methods\n",
        "    def start(self):\n",
        "        print(\"Vehicle is starting\")\n",
        "\n",
        "    def stop(self):\n",
        "        print(\"Vehicle is stopping\")\n",
        "\n",
        "# define sub class and make class Car (inheritance from Vehicle)\n",
        "class Car(Vehicle):\n",
        "    def __init__(self, brand, model, year, number_of_doors, number_of_wheels):\n",
        "        super().__init__(brand, model, year)\n",
        "        self.number_of_doors = number_of_doors\n",
        "        self.number_of_wheels = number_of_wheels\n",
        "\n",
        "# make class Bike (inheritance from Vehicle)\n",
        "class Bike(Vehicle):\n",
        "    def __init__(self, brand, model, year, number_of_wheels):\n",
        "        super().__init__(brand, model, year)\n",
        "        self.number_of_wheels = number_of_wheels\n",
        "\n",
        "# make object\n",
        "car = Car(\"Hyundai\", \"Ioniq 5\", 2023, 4, 4)\n",
        "bike = Bike(\"Suzuki\", \"GSX-R150\", 2021, 2)\n",
        "\n",
        "# print attribute and method\n",
        "print(car.__dict__)\n",
        "print(bike.__dict__)\n",
        "car.start()\n",
        "bike.start()\n"
      ]
    }
  ]
}