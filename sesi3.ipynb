{
  "nbformat": 4,
  "nbformat_minor": 0,
  "metadata": {
    "colab": {
      "provenance": [],
      "authorship_tag": "ABX9TyM6cML/AVYH00APto7nnpC5",
      "include_colab_link": true
    },
    "kernelspec": {
      "name": "python3",
      "display_name": "Python 3"
    },
    "language_info": {
      "name": "python"
    }
  },
  "cells": [
    {
      "cell_type": "markdown",
      "metadata": {
        "id": "view-in-github",
        "colab_type": "text"
      },
      "source": [
        "<a href=\"https://colab.research.google.com/github/SitiMariatulUlfa/Pemograman-Berorientasi-Objek/blob/main/sesi3.ipynb\" target=\"_parent\"><img src=\"https://colab.research.google.com/assets/colab-badge.svg\" alt=\"Open In Colab\"/></a>"
      ]
    },
    {
      "cell_type": "markdown",
      "source": [
        "Contoh sederhana perulangan for"
      ],
      "metadata": {
        "id": "OtJ19L00S5ZN"
      }
    },
    {
      "cell_type": "code",
      "execution_count": 1,
      "metadata": {
        "colab": {
          "base_uri": "https://localhost:8080/"
        },
        "id": "BR5x29DmSvBd",
        "outputId": "c0a10116-b7af-46ac-c104-4fde21d1a2d8"
      },
      "outputs": [
        {
          "output_type": "stream",
          "name": "stdout",
          "text": [
            "Perulangan ke-0\n",
            "Perulangan ke-1\n",
            "Perulangan ke-2\n",
            "Perulangan ke-3\n",
            "Perulangan ke-4\n",
            "Perulangan ke-5\n",
            "Perulangan ke-6\n",
            "Perulangan ke-7\n",
            "Perulangan ke-8\n",
            "Perulangan ke-9\n"
          ]
        }
      ],
      "source": [
        "# Deklarasi variabel contoh dan 10 itu sebagai tanda 10 kali perulangan\n",
        "contoh = 10\n",
        "\n",
        "# Variabel i berfungsi untuk menampung indeks,\n",
        "# dan fungsi range() berfungsi untuk membuat list dari 0-10.\n",
        "for i in range(contoh):\n",
        "    print (\"Perulangan ke-\" +str(i))"
      ]
    },
    {
      "cell_type": "code",
      "source": [
        "# Menampilkan range dari kumpulan deret tertentu\n",
        "# range(5,10) akan membuat deret angka mulai dari 5, 6, 7, 8, dan 9.\n",
        "\n",
        "for i in range(5,10):\n",
        "  print(i)"
      ],
      "metadata": {
        "colab": {
          "base_uri": "https://localhost:8080/"
        },
        "id": "HAH3dATCS3-U",
        "outputId": "99ba3cab-ff98-4551-ea4e-b4612b519905"
      },
      "execution_count": 2,
      "outputs": [
        {
          "output_type": "stream",
          "name": "stdout",
          "text": [
            "5\n",
            "6\n",
            "7\n",
            "8\n",
            "9\n"
          ]
        }
      ]
    },
    {
      "cell_type": "markdown",
      "source": [
        "Contoh menampilkan isi dalam body perulangan"
      ],
      "metadata": {
        "id": "6WErbigBTARi"
      }
    },
    {
      "cell_type": "code",
      "source": [
        "# Deklarasi variabel contoh2 dengan tipe list\n",
        "contoh2 = ['saya','suka','minum','kopi', 'gayo']\n",
        "\n",
        "for isi in contoh2:\n",
        "    print (isi)"
      ],
      "metadata": {
        "colab": {
          "base_uri": "https://localhost:8080/"
        },
        "id": "Bm31HRqgS8RU",
        "outputId": "c4c17348-e76c-4a34-e792-3d64908e6bf9"
      },
      "execution_count": 3,
      "outputs": [
        {
          "output_type": "stream",
          "name": "stdout",
          "text": [
            "saya\n",
            "suka\n",
            "minum\n",
            "kopi\n",
            "gayo\n"
          ]
        }
      ]
    },
    {
      "cell_type": "markdown",
      "source": [
        "Contoh menggunakan while"
      ],
      "metadata": {
        "id": "Q2Td1oq2THGg"
      }
    },
    {
      "cell_type": "code",
      "source": [
        "# Deklarasi variabel hit\n",
        "hit = 0\n",
        "# Membuat kondisi\n",
        "while (hit < 5):\n",
        "    print(hit, \"kurang dari 5\")\n",
        "    hit = hit + 1\n",
        "else:\n",
        "# Menampilkan output salam jika kondisi sudah terpenuhi\n",
        "    print(\"Salammmm\")"
      ],
      "metadata": {
        "colab": {
          "base_uri": "https://localhost:8080/"
        },
        "id": "GAwo3XI1TEMD",
        "outputId": "1e1438e0-8e60-4fc4-c012-75944fdb79a7"
      },
      "execution_count": 4,
      "outputs": [
        {
          "output_type": "stream",
          "name": "stdout",
          "text": [
            "0 kurang dari 5\n",
            "1 kurang dari 5\n",
            "2 kurang dari 5\n",
            "3 kurang dari 5\n",
            "4 kurang dari 5\n",
            "Salammmm\n"
          ]
        }
      ]
    },
    {
      "cell_type": "markdown",
      "source": [
        "Program Menghitung Harga Tiket Masuk"
      ],
      "metadata": {
        "id": "K0EpG-LGTNYD"
      }
    },
    {
      "cell_type": "code",
      "source": [
        "##\n",
        "# Program menghitung Faktor Persekutuan Terbesa\n",
        "#\n",
        "\n",
        "# Membaca dua bilangan positif dari user\n",
        "n = int(input(\"Masukkan bilangan positif:\"))\n",
        "m = int(input(\"Masukkan bilangan positif:\"))\n",
        "\n",
        "# Inisialisasi variabel untuk nilai terkecil dari n dan m\n",
        "d = min(n, m)\n",
        "\n",
        "# Gunakan loop while untuk mencari FPT\n",
        "while n % d != 0 or m % d != 0:\n",
        "  d = d - 1\n",
        "\n",
        "# Menampilkan hasil\n",
        "print(\"Faktor persekutuan terbesar dari\", n, \"dan\", m, \" adalah\", d)\n"
      ],
      "metadata": {
        "colab": {
          "base_uri": "https://localhost:8080/"
        },
        "id": "Kz7od59vTJ4o",
        "outputId": "b3a174d0-d3f1-497a-c695-3fa377500473"
      },
      "execution_count": 5,
      "outputs": [
        {
          "output_type": "stream",
          "name": "stdout",
          "text": [
            "Masukkan bilangan positif:2\n",
            "Masukkan bilangan positif:4\n",
            "Faktor persekutuan terbesar dari 2 dan 4  adalah 2\n"
          ]
        }
      ]
    },
    {
      "cell_type": "markdown",
      "source": [
        "Program Mencari Nilai Maksimum dari 100 bilangan bulat"
      ],
      "metadata": {
        "id": "jcHjfqC-TVoJ"
      }
    },
    {
      "cell_type": "code",
      "source": [
        "##\n",
        "# Menentukan nilai maksimum 100 bilangan bulat, menghitung berapa kali\n",
        "# perulangan\n",
        "\n",
        "from random import randrange\n",
        "\n",
        "BIL_ITEMS = 100\n",
        "\n",
        "# Generate the first number and menampilkan nya\n",
        "maks_nilai = randrange(1, BIL_ITEMS + 1)\n",
        "print(maks_nilai)\n",
        "\n",
        "# Menghitung berapa kali perubahan\n",
        "bil_update = 0\n",
        "\n",
        "# Untuk setiap bilangan\n",
        "for i in range(1, BIL_ITEMS):\n",
        "  # Generate bilangan acak\n",
        "  current = randrange(1, BIL_ITEMS + 1)\n",
        "\n",
        "  # Kondisi jika ditemukan bilangan terbesar\n",
        "  if current > maks_nilai:\n",
        "    # Update nilai maksimum dan hitung perubahan\n",
        "    maks_nilai = current\n",
        "    bil_update = bil_update + 1\n",
        "    # Tampilkan bilangan jika masih ada proses update\n",
        "    print(current, \"<== Update\")\n",
        "  else:\n",
        "    #Tampilkan bilangan\n",
        "    print(current)\n",
        "\n",
        "# Tampilkan Hasil Terakhir\n",
        "print(\" Nilai maksimum yang ditemukan adalah\", maks_nilai)\n",
        "print(\"Nilai maksimum yang di-update\", bil_update, \"kali\")"
      ],
      "metadata": {
        "colab": {
          "base_uri": "https://localhost:8080/"
        },
        "id": "Aq097bebTPuT",
        "outputId": "9832d1f9-7f92-4da3-d996-4338f3020348"
      },
      "execution_count": 6,
      "outputs": [
        {
          "output_type": "stream",
          "name": "stdout",
          "text": [
            "44\n",
            "42\n",
            "92 <== Update\n",
            "47\n",
            "45\n",
            "27\n",
            "86\n",
            "40\n",
            "68\n",
            "49\n",
            "98 <== Update\n",
            "89\n",
            "8\n",
            "96\n",
            "21\n",
            "54\n",
            "68\n",
            "58\n",
            "88\n",
            "63\n",
            "43\n",
            "4\n",
            "61\n",
            "23\n",
            "2\n",
            "72\n",
            "59\n",
            "61\n",
            "66\n",
            "19\n",
            "65\n",
            "18\n",
            "61\n",
            "77\n",
            "76\n",
            "4\n",
            "71\n",
            "92\n",
            "74\n",
            "60\n",
            "62\n",
            "10\n",
            "28\n",
            "32\n",
            "57\n",
            "58\n",
            "58\n",
            "25\n",
            "22\n",
            "78\n",
            "60\n",
            "45\n",
            "86\n",
            "9\n",
            "42\n",
            "80\n",
            "11\n",
            "95\n",
            "78\n",
            "10\n",
            "52\n",
            "86\n",
            "94\n",
            "62\n",
            "5\n",
            "55\n",
            "40\n",
            "22\n",
            "45\n",
            "96\n",
            "93\n",
            "86\n",
            "88\n",
            "71\n",
            "100 <== Update\n",
            "30\n",
            "83\n",
            "84\n",
            "38\n",
            "90\n",
            "52\n",
            "97\n",
            "76\n",
            "40\n",
            "96\n",
            "33\n",
            "41\n",
            "57\n",
            "56\n",
            "54\n",
            "99\n",
            "6\n",
            "46\n",
            "43\n",
            "76\n",
            "82\n",
            "59\n",
            "76\n",
            "13\n",
            "34\n",
            " Nilai maksimum yang ditemukan adalah 100\n",
            "Nilai maksimum yang di-update 3 kali\n"
          ]
        }
      ]
    }
  ]
}