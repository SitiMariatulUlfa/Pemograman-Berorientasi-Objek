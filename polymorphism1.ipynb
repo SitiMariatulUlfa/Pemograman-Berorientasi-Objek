{
  "nbformat": 4,
  "nbformat_minor": 0,
  "metadata": {
    "colab": {
      "provenance": [],
      "authorship_tag": "ABX9TyNhGRl8L6NPj6xYBDCRH+Yx",
      "include_colab_link": true
    },
    "kernelspec": {
      "name": "python3",
      "display_name": "Python 3"
    },
    "language_info": {
      "name": "python"
    }
  },
  "cells": [
    {
      "cell_type": "markdown",
      "metadata": {
        "id": "view-in-github",
        "colab_type": "text"
      },
      "source": [
        "<a href=\"https://colab.research.google.com/github/SitiMariatulUlfa/Pemograman-Berorientasi-Objek/blob/main/polymorphism1.ipynb\" target=\"_parent\"><img src=\"https://colab.research.google.com/assets/colab-badge.svg\" alt=\"Open In Colab\"/></a>"
      ]
    },
    {
      "cell_type": "code",
      "execution_count": 2,
      "metadata": {
        "colab": {
          "base_uri": "https://localhost:8080/"
        },
        "id": "hmg2P9bqsJI-",
        "outputId": "70a812ee-9867-4fbc-b8ce-9f5aceeb5fda"
      },
      "outputs": [
        {
          "output_type": "stream",
          "name": "stdout",
          "text": [
            "Cake flavor: Chocolate\n",
            "Cake flavor: Strawberry\n"
          ]
        }
      ],
      "source": [
        "class Cake:\n",
        "    def flavor(self):\n",
        "        return \"No flavor\"\n",
        "\n",
        "class ChocolateCake(Cake):\n",
        "    def flavor(self):\n",
        "        return \"Chocolate\"\n",
        "\n",
        "class StrawberryCake(Cake):\n",
        "    def flavor(self):\n",
        "        return \"Strawberry\"\n",
        "\n",
        "cakes = [ChocolateCake(), StrawberryCake()]\n",
        "\n",
        "for cake in cakes:\n",
        "    print(f\"Cake flavor: {cake.flavor()}\")\n"
      ]
    }
  ]
}